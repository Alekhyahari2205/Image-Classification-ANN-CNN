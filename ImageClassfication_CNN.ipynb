{
  "nbformat": 4,
  "nbformat_minor": 0,
  "metadata": {
    "colab": {
      "provenance": [],
      "toc_visible": true,
      "authorship_tag": "ABX9TyPt6/pizljEJu3GDkLxP3Rf",
      "include_colab_link": true
    },
    "kernelspec": {
      "name": "python3",
      "display_name": "Python 3"
    },
    "language_info": {
      "name": "python"
    }
  },
  "cells": [
    {
      "cell_type": "markdown",
      "metadata": {
        "id": "view-in-github",
        "colab_type": "text"
      },
      "source": [
        "<a href=\"https://colab.research.google.com/github/Alekhyahari2205/Image-Classification-ANN-CNN/blob/main/ImageClassfication_CNN.ipynb\" target=\"_parent\"><img src=\"https://colab.research.google.com/assets/colab-badge.svg\" alt=\"Open In Colab\"/></a>"
      ]
    },
    {
      "cell_type": "markdown",
      "source": [
        "#**Image Classification**\n",
        "\n",
        "**Aritifical Neural Networks and Convolutional Neural Networks**"
      ],
      "metadata": {
        "id": "PHIbXF-MHWYs"
      }
    },
    {
      "cell_type": "code",
      "execution_count": 53,
      "metadata": {
        "id": "sQ21FmXJnHoR"
      },
      "outputs": [],
      "source": [
        "import tensorflow as tf\n",
        "import keras\n",
        "from tensorflow.keras import datasets, layers, models\n",
        "import matplotlib.pyplot as plt\n",
        "import numpy as np"
      ]
    },
    {
      "cell_type": "code",
      "source": [
        "(X_train, y_train), (X_test, y_test) = datasets.cifar10.load_data()"
      ],
      "metadata": {
        "id": "YL4COOLendaK"
      },
      "execution_count": 54,
      "outputs": []
    },
    {
      "cell_type": "code",
      "source": [
        "X_train.shape"
      ],
      "metadata": {
        "colab": {
          "base_uri": "https://localhost:8080/"
        },
        "id": "bJHhW25hoCV7",
        "outputId": "93533e63-d385-49b8-a1a1-e7bed3479bf6"
      },
      "execution_count": 55,
      "outputs": [
        {
          "output_type": "execute_result",
          "data": {
            "text/plain": [
              "(50000, 32, 32, 3)"
            ]
          },
          "metadata": {},
          "execution_count": 55
        }
      ]
    },
    {
      "cell_type": "code",
      "source": [
        "X_test.shape"
      ],
      "metadata": {
        "colab": {
          "base_uri": "https://localhost:8080/"
        },
        "id": "A0mpVyhhoF09",
        "outputId": "48a582ac-0c5f-4d10-e94e-e66102115815"
      },
      "execution_count": 56,
      "outputs": [
        {
          "output_type": "execute_result",
          "data": {
            "text/plain": [
              "(10000, 32, 32, 3)"
            ]
          },
          "metadata": {},
          "execution_count": 56
        }
      ]
    },
    {
      "cell_type": "code",
      "source": [
        "y_train.shape\n",
        "#50k samples and 1 dimensional array"
      ],
      "metadata": {
        "colab": {
          "base_uri": "https://localhost:8080/"
        },
        "id": "wCSyj272pIRk",
        "outputId": "0670e26f-db5c-4e10-8264-73dc1691adee"
      },
      "execution_count": 57,
      "outputs": [
        {
          "output_type": "execute_result",
          "data": {
            "text/plain": [
              "(50000, 1)"
            ]
          },
          "metadata": {},
          "execution_count": 57
        }
      ]
    },
    {
      "cell_type": "code",
      "source": [
        "y_train[:5] #checking out the first 5 samples"
      ],
      "metadata": {
        "colab": {
          "base_uri": "https://localhost:8080/"
        },
        "id": "K7nREsgCpYEt",
        "outputId": "95343d38-4fdc-417d-fd0a-7cb589eebc78"
      },
      "execution_count": 58,
      "outputs": [
        {
          "output_type": "execute_result",
          "data": {
            "text/plain": [
              "array([[6],\n",
              "       [9],\n",
              "       [9],\n",
              "       [4],\n",
              "       [1]], dtype=uint8)"
            ]
          },
          "metadata": {},
          "execution_count": 58
        }
      ]
    },
    {
      "cell_type": "code",
      "source": [
        "y_train = y_train.reshape(-1,) #flatten it to 1 dimensional array\n",
        "y_train.shape"
      ],
      "metadata": {
        "colab": {
          "base_uri": "https://localhost:8080/"
        },
        "id": "9eR2K-HDpsGq",
        "outputId": "cb205247-78ea-4fc5-a44c-00edcae7abed"
      },
      "execution_count": 59,
      "outputs": [
        {
          "output_type": "execute_result",
          "data": {
            "text/plain": [
              "(50000,)"
            ]
          },
          "metadata": {},
          "execution_count": 59
        }
      ]
    },
    {
      "cell_type": "code",
      "source": [
        "classes = [\"airplane\",\"automobile\",\"bird\",\"cat\",\"deer\",\"dog\",\"frog\",\"horse\",\"ship\",\"truck\"]"
      ],
      "metadata": {
        "id": "rCXd4Uq0o1A4"
      },
      "execution_count": 60,
      "outputs": []
    },
    {
      "cell_type": "code",
      "source": [
        "classes[9]"
      ],
      "metadata": {
        "colab": {
          "base_uri": "https://localhost:8080/",
          "height": 36
        },
        "id": "w8nnSGGDprEl",
        "outputId": "0f64eb30-3f37-4045-ebc2-844fdb517a0f"
      },
      "execution_count": 61,
      "outputs": [
        {
          "output_type": "execute_result",
          "data": {
            "text/plain": [
              "'truck'"
            ],
            "application/vnd.google.colaboratory.intrinsic+json": {
              "type": "string"
            }
          },
          "metadata": {},
          "execution_count": 61
        }
      ]
    },
    {
      "cell_type": "markdown",
      "source": [
        "**DATA EXPLORATION PART**\n",
        "\n"
      ],
      "metadata": {
        "id": "7-QEvuhyH2St"
      }
    },
    {
      "cell_type": "code",
      "source": [
        "def plot_sample(X, y, index):\n",
        "  plt.figure(figsize = (15,2)) #trying to reduce the size of image\n",
        "  plt.imshow(X[index]) #this will show the image mentioned in 1st index\n",
        "  plt.xlabel(classes[y[index]])"
      ],
      "metadata": {
        "id": "zrIc5miIoNze"
      },
      "execution_count": 62,
      "outputs": []
    },
    {
      "cell_type": "code",
      "source": [
        "plot_sample(X_train, y_train, 0)\n",
        "plot_sample(X_train, y_train, 3)"
      ],
      "metadata": {
        "colab": {
          "base_uri": "https://localhost:8080/",
          "height": 457
        },
        "id": "yRUn49jqodDU",
        "outputId": "e0eb6d15-23e4-4b3d-d9a5-dcf1021e2a7b"
      },
      "execution_count": 63,
      "outputs": [
        {
          "output_type": "display_data",
          "data": {
            "text/plain": [
              "<Figure size 1500x200 with 1 Axes>"
            ],
            "image/png": "[encoded data removed]"
          },
          "metadata": {}
        },
        {
          "output_type": "display_data",
          "data": {
            "text/plain": [
              "<Figure size 1500x200 with 1 Axes>"
            ],
            "image/png": "[encoded data removed]"
          },
          "metadata": {}
        }
      ]
    },
    {
      "cell_type": "markdown",
      "source": [
        "**DATA NORMALIZATION PART**"
      ],
      "metadata": {
        "id": "jNYt506jISMr"
      }
    },
    {
      "cell_type": "code",
      "source": [
        "#divide each pixel value by 255 when ever there is a image to normalize it into 0 to 1 range.\n",
        "X_train = X_train/255\n",
        "X_test = X_test/255 #cause we are dividing it with 255 pixels"
      ],
      "metadata": {
        "id": "x1AMh25MrZUU"
      },
      "execution_count": 64,
      "outputs": []
    },
    {
      "cell_type": "markdown",
      "source": [
        "**Building Simple Artificial Neural network Model**"
      ],
      "metadata": {
        "id": "esvNu_hZIZPN"
      }
    },
    {
      "cell_type": "code",
      "source": [
        "from keras.models import Sequential\n",
        "from keras.layers import Dense, Dropout, Activation\n",
        "from keras.optimizers import SGD\n",
        "model = keras.Sequential([\n",
        "    keras.layers.Flatten(input_shape = (32,32,3)),\n",
        "    keras.layers.Dense(3000, activation ='relu'),  #deep layer 1\n",
        "    keras.layers.Dense(1000, activation = 'relu'), #deep layer 2\n",
        "    keras.layers.Dense(10, activation = 'sigmoid') #last year which has 10 outputs\n",
        "])\n",
        "model.compile(optimizer = 'SGD', loss = 'sparse_categorical_crossentropy', metrics = ['accuracy'])  #if y is directorly a value we use sparse categorical cross entropy\n",
        "model.fit(X_train, y_train, epochs = 5) #accuracy is 49 which is very low, that means artificial neural network is performing very bad.\n"
      ],
      "metadata": {
        "colab": {
          "base_uri": "https://localhost:8080/"
        },
        "id": "JRmLd1sr1_f2",
        "outputId": "d1afc30f-d2fd-45a0-c0b7-d18aa5a8fce2"
      },
      "execution_count": 65,
      "outputs": [
        {
          "output_type": "stream",
          "name": "stdout",
          "text": [
            "Epoch 1/5\n",
            "1563/1563 [==============================] - 187s 119ms/step - loss: 1.8138 - accuracy: 0.3551\n",
            "Epoch 2/5\n",
            "1563/1563 [==============================] - 180s 115ms/step - loss: 1.6228 - accuracy: 0.4261\n",
            "Epoch 3/5\n",
            "1563/1563 [==============================] - 178s 114ms/step - loss: 1.5417 - accuracy: 0.4551\n",
            "Epoch 4/5\n",
            "1563/1563 [==============================] - 190s 122ms/step - loss: 1.4822 - accuracy: 0.4765\n",
            "Epoch 5/5\n",
            "1563/1563 [==============================] - 182s 117ms/step - loss: 1.4333 - accuracy: 0.4945\n"
          ]
        },
        {
          "output_type": "execute_result",
          "data": {
            "text/plain": [
              "<keras.callbacks.History at 0x7c6c40f908b0>"
            ]
          },
          "metadata": {},
          "execution_count": 65
        }
      ]
    },
    {
      "cell_type": "markdown",
      "source": [
        "**IMPLEMENTATION OF CONVOLUTIONAL NEURAL NETWORK (CNN)**"
      ],
      "metadata": {
        "id": "TSQeAHDKIfOT"
      }
    },
    {
      "cell_type": "code",
      "source": [
        "cnn_model = models.Sequential([\n",
        "    #cnn\n",
        "    layers.Conv2D(filters = 32,  kernel_size = (3,3), activation ='relu', input_shape = (32,32,3)),#filters = feature maps\n",
        "    layers.MaxPooling2D((2,2)),\n",
        "    layers.Conv2D(filters = 64,  kernel_size = (3,3), activation ='relu'), #filters = feature maps\n",
        "    layers.MaxPooling2D((2,2)),  #POOLING DOWN SAMPLES AND PROVIDES MAXIMUM VALUE IN 2,2 MATRIX.\n",
        "    #Dense\n",
        "    layers.Flatten(),\n",
        "    layers.Dense(64, activation ='relu'),  #deep layer 1 which provides only postive values and assumes negative values to be 0\n",
        "    layers.Dense(10, activation = 'softmax'), #deep layer 2 - Normalizing in such a way that the total sum is 1 and the values are between 0 to 1.\n",
        "     #last year which has 10 outputs\n",
        "    ])\n"
      ],
      "metadata": {
        "id": "t3_cxkvc2lyG"
      },
      "execution_count": 66,
      "outputs": []
    },
    {
      "cell_type": "code",
      "source": [
        "cnn_model.compile(optimizer = 'adam', loss = 'sparse_categorical_crossentropy', metrics = ['accuracy'])"
      ],
      "metadata": {
        "id": "9Scz-XxmwxXb"
      },
      "execution_count": 67,
      "outputs": []
    },
    {
      "cell_type": "code",
      "source": [
        "cnn_model.fit(X_train, y_train, epochs = 10)"
      ],
      "metadata": {
        "colab": {
          "base_uri": "https://localhost:8080/"
        },
        "id": "ESnsj2ZtxFVC",
        "outputId": "129a94ba-23e8-420e-dfeb-c88963725e13"
      },
      "execution_count": 68,
      "outputs": [
        {
          "output_type": "stream",
          "name": "stdout",
          "text": [
            "Epoch 1/10\n",
            "1563/1563 [==============================] - 84s 53ms/step - loss: 1.4659 - accuracy: 0.4748\n",
            "Epoch 2/10\n",
            "1563/1563 [==============================] - 81s 52ms/step - loss: 1.1190 - accuracy: 0.6079\n",
            "Epoch 3/10\n",
            "1563/1563 [==============================] - 80s 51ms/step - loss: 0.9892 - accuracy: 0.6556\n",
            "Epoch 4/10\n",
            "1563/1563 [==============================] - 79s 51ms/step - loss: 0.9081 - accuracy: 0.6825\n",
            "Epoch 5/10\n",
            "1563/1563 [==============================] - 80s 51ms/step - loss: 0.8430 - accuracy: 0.7064\n",
            "Epoch 6/10\n",
            "1563/1563 [==============================] - 79s 50ms/step - loss: 0.7876 - accuracy: 0.7260\n",
            "Epoch 7/10\n",
            "1563/1563 [==============================] - 79s 50ms/step - loss: 0.7401 - accuracy: 0.7408\n",
            "Epoch 8/10\n",
            "1563/1563 [==============================] - 80s 51ms/step - loss: 0.6917 - accuracy: 0.7587\n",
            "Epoch 9/10\n",
            "1563/1563 [==============================] - 79s 51ms/step - loss: 0.6513 - accuracy: 0.7721\n",
            "Epoch 10/10\n",
            "1563/1563 [==============================] - 80s 51ms/step - loss: 0.6155 - accuracy: 0.7837\n"
          ]
        },
        {
          "output_type": "execute_result",
          "data": {
            "text/plain": [
              "<keras.callbacks.History at 0x7c6c40f67ac0>"
            ]
          },
          "metadata": {},
          "execution_count": 68
        }
      ]
    },
    {
      "cell_type": "code",
      "source": [
        "cnn_model.evaluate(X_test, y_test)  #Accuracy obtained through CNN is almost 70%"
      ],
      "metadata": {
        "colab": {
          "base_uri": "https://localhost:8080/"
        },
        "id": "s6mdRZlNA32X",
        "outputId": "f3ff4860-ca4f-4fe0-ec93-0bfec19b5efc"
      },
      "execution_count": 69,
      "outputs": [
        {
          "output_type": "stream",
          "name": "stdout",
          "text": [
            "313/313 [==============================] - 6s 19ms/step - loss: 0.9266 - accuracy: 0.6973\n"
          ]
        },
        {
          "output_type": "execute_result",
          "data": {
            "text/plain": [
              "[0.9265678524971008, 0.6973000168800354]"
            ]
          },
          "metadata": {},
          "execution_count": 69
        }
      ]
    },
    {
      "cell_type": "code",
      "source": [
        "y_test = y_test.reshape(-1,)\n",
        "y_test[:5]"
      ],
      "metadata": {
        "colab": {
          "base_uri": "https://localhost:8080/"
        },
        "id": "kWwvvDHyEb7f",
        "outputId": "e28c048a-6f7d-4a9f-9dc1-5c98daf50cc9"
      },
      "execution_count": 70,
      "outputs": [
        {
          "output_type": "execute_result",
          "data": {
            "text/plain": [
              "array([3, 8, 8, 0, 6], dtype=uint8)"
            ]
          },
          "metadata": {},
          "execution_count": 70
        }
      ]
    },
    {
      "cell_type": "code",
      "source": [
        "plot_sample(X_test, y_test,1)"
      ],
      "metadata": {
        "colab": {
          "base_uri": "https://localhost:8080/",
          "height": 237
        },
        "id": "RyjuZ6tfEr3F",
        "outputId": "adf85c71-781f-4cb9-8895-204985903c0f"
      },
      "execution_count": 71,
      "outputs": [
        {
          "output_type": "display_data",
          "data": {
            "text/plain": [
              "<Figure size 1500x200 with 1 Axes>"
            ],
            "image/png": "[encoded data removed]"
          },
          "metadata": {}
        }
      ]
    },
    {
      "cell_type": "code",
      "source": [
        "y_pred = cnn_model.predict(X_test)\n",
        "y_pred[:5]"
      ],
      "metadata": {
        "colab": {
          "base_uri": "https://localhost:8080/"
        },
        "id": "xBjF0L7FE-Zm",
        "outputId": "f9734f36-4f1d-4ce9-829c-3358c0453076"
      },
      "execution_count": 72,
      "outputs": [
        {
          "output_type": "stream",
          "name": "stdout",
          "text": [
            "313/313 [==============================] - 5s 15ms/step\n"
          ]
        },
        {
          "output_type": "execute_result",
          "data": {
            "text/plain": [
              "array([[4.7030986e-05, 1.3672036e-06, 5.0478280e-03, 8.9060301e-01,\n",
              "        1.4908371e-03, 9.8374501e-02, 3.0622832e-03, 1.6769591e-05,\n",
              "        1.3515125e-03, 4.8164411e-06],\n",
              "       [2.5225328e-02, 7.3588389e-01, 8.0686717e-05, 5.2773868e-07,\n",
              "        2.4597685e-07, 3.5227519e-08, 6.8027525e-08, 1.8196594e-08,\n",
              "        2.3877522e-01, 3.4114473e-05],\n",
              "       [1.0056905e-01, 1.2860996e-01, 7.4311619e-04, 1.0615108e-02,\n",
              "        4.1859909e-03, 5.7660689e-04, 1.2872479e-04, 1.3129985e-03,\n",
              "        7.1675938e-01, 3.6499016e-02],\n",
              "       [8.3924407e-01, 2.2279560e-04, 1.0873072e-01, 3.9529917e-03,\n",
              "        2.2810081e-02, 4.4650362e-05, 1.5414317e-04, 7.8835321e-05,\n",
              "        2.4354391e-02, 4.0732001e-04],\n",
              "       [2.9592386e-06, 1.0012039e-06, 1.8146839e-02, 1.9379772e-02,\n",
              "        6.8938524e-01, 8.3200738e-04, 2.7224010e-01, 2.4400870e-07,\n",
              "        1.1733274e-05, 1.4134799e-08]], dtype=float32)"
            ]
          },
          "metadata": {},
          "execution_count": 72
        }
      ]
    },
    {
      "cell_type": "code",
      "source": [
        "y_classes = [np.argmax(element) for element in y_pred]\n",
        "y_classes[:5]"
      ],
      "metadata": {
        "colab": {
          "base_uri": "https://localhost:8080/"
        },
        "id": "gnnI9OiEFQZ9",
        "outputId": "c877af02-67c6-460c-d6a4-01fc02bbd27e"
      },
      "execution_count": 73,
      "outputs": [
        {
          "output_type": "execute_result",
          "data": {
            "text/plain": [
              "[3, 1, 8, 0, 4]"
            ]
          },
          "metadata": {},
          "execution_count": 73
        }
      ]
    },
    {
      "cell_type": "code",
      "source": [
        "y_test[:5] #as our accuracy is almost 70%, it makes few mistakes which is fine."
      ],
      "metadata": {
        "colab": {
          "base_uri": "https://localhost:8080/"
        },
        "id": "7ghvyKJWFerV",
        "outputId": "e346fae3-acfd-4c42-ddc4-55d707c8c0ca"
      },
      "execution_count": 74,
      "outputs": [
        {
          "output_type": "execute_result",
          "data": {
            "text/plain": [
              "array([3, 8, 8, 0, 6], dtype=uint8)"
            ]
          },
          "metadata": {},
          "execution_count": 74
        }
      ]
    },
    {
      "cell_type": "code",
      "source": [
        "plot_sample(X_test, y_test,0)\n",
        "classes[y_classes[0]]   #its correct, the image predicted is cat !"
      ],
      "metadata": {
        "colab": {
          "base_uri": "https://localhost:8080/",
          "height": 256
        },
        "id": "nYXa_MSyFurf",
        "outputId": "49bac09a-6776-4516-8901-42de869165c9"
      },
      "execution_count": 75,
      "outputs": [
        {
          "output_type": "execute_result",
          "data": {
            "text/plain": [
              "'cat'"
            ],
            "application/vnd.google.colaboratory.intrinsic+json": {
              "type": "string"
            }
          },
          "metadata": {},
          "execution_count": 75
        },
        {
          "output_type": "display_data",
          "data": {
            "text/plain": [
              "<Figure size 1500x200 with 1 Axes>"
            ],
            "image/png": "[encoded data removed]"
          },
          "metadata": {}
        }
      ]
    },
    {
      "cell_type": "code",
      "source": [
        "plot_sample(X_test, y_test,4)\n",
        "classes[y_classes[4]] #the image provided is frog and the model predicted it to be frog\n"
      ],
      "metadata": {
        "colab": {
          "base_uri": "https://localhost:8080/",
          "height": 256
        },
        "id": "fGr3fQlEFw0L",
        "outputId": "0a617678-06cd-4a8f-da27-004d1059bf5d"
      },
      "execution_count": 76,
      "outputs": [
        {
          "output_type": "execute_result",
          "data": {
            "text/plain": [
              "'deer'"
            ],
            "application/vnd.google.colaboratory.intrinsic+json": {
              "type": "string"
            }
          },
          "metadata": {},
          "execution_count": 76
        },
        {
          "output_type": "display_data",
          "data": {
            "text/plain": [
              "<Figure size 1500x200 with 1 Axes>"
            ],
            "image/png": "[encoded data removed]"
          },
          "metadata": {}
        }
      ]
    }
  ]
}